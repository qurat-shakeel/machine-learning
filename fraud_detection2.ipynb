{
  "nbformat": 4,
  "nbformat_minor": 0,
  "metadata": {
    "colab": {
      "provenance": []
    },
    "kernelspec": {
      "name": "python3",
      "display_name": "Python 3"
    },
    "language_info": {
      "name": "python"
    }
  },
  "cells": [
    {
      "cell_type": "code",
      "execution_count": 2,
      "metadata": {
        "id": "xqxtRrQ4beYX"
      },
      "outputs": [],
      "source": [
        "import pandas as pd\n",
        "import numpy as np\n",
        "from sklearn.model_selection import train_test_split\n",
        "from sklearn.preprocessing import StandardScaler\n",
        "from sklearn.metrics import classification_report, accuracy_score, confusion_matrix, precision_score, recall_score, f1_score\n",
        "from sklearn.feature_selection import SelectKBest, f_classif\n",
        "from imblearn.over_sampling import SMOTE\n",
        "from tensorflow.keras.models import Sequential\n",
        "from tensorflow.keras.layers import Dense, Dropout\n",
        "from tensorflow.keras.callbacks import EarlyStopping"
      ]
    },
    {
      "cell_type": "code",
      "source": [
        "df = pd.read_csv(\"frauddetection.csv\")"
      ],
      "metadata": {
        "id": "Th_vbVdgbmH6"
      },
      "execution_count": 3,
      "outputs": []
    },
    {
      "cell_type": "code",
      "source": [
        "X = df.drop(['Class'], axis=1)\n",
        "y = df['Class']\n"
      ],
      "metadata": {
        "id": "XJuiEvWcbypB"
      },
      "execution_count": 4,
      "outputs": []
    },
    {
      "cell_type": "code",
      "source": [
        "X_train, X_test, y_train, y_test = train_test_split(X, y, test_size=0.2, random_state=42, stratify=y)\n"
      ],
      "metadata": {
        "id": "luomxhNdb1LS"
      },
      "execution_count": 5,
      "outputs": []
    },
    {
      "cell_type": "code",
      "source": [
        "# Handle imbalanced data using SMOTE\n",
        "smote = SMOTE(random_state=42)\n",
        "X_train_smote, y_train_smote = smote.fit_resample(X_train, y_train)\n"
      ],
      "metadata": {
        "id": "ZHgSnobzb6H1"
      },
      "execution_count": 6,
      "outputs": []
    },
    {
      "cell_type": "code",
      "source": [
        "selector = SelectKBest(f_classif, k=20)\n",
        "X_train_smote = selector.fit_transform(X_train_smote, y_train_smote)\n",
        "X_test = selector.transform(X_test)\n"
      ],
      "metadata": {
        "id": "0zHvUZFlb-cI"
      },
      "execution_count": 7,
      "outputs": []
    },
    {
      "cell_type": "code",
      "source": [
        "scaler = StandardScaler()\n",
        "X_train_smote = scaler.fit_transform(X_train_smote)\n",
        "X_test = scaler.transform(X_test)"
      ],
      "metadata": {
        "id": "uWee9h7NcAyo"
      },
      "execution_count": 8,
      "outputs": []
    },
    {
      "cell_type": "code",
      "source": [
        "def create_model():\n",
        "    model = Sequential([\n",
        "        Dense(64, input_shape=(X_train_smote.shape[1],), activation='relu'),\n",
        "        Dropout(0.5),\n",
        "        Dense(128, activation='relu'),\n",
        "        Dropout(0.5),\n",
        "        Dense(64, activation='relu'),\n",
        "        Dense(1, activation='sigmoid')\n",
        "    ])\n",
        "    model.compile(optimizer='adam', loss='binary_crossentropy', metrics=['accuracy'])\n",
        "    return model\n"
      ],
      "metadata": {
        "id": "063H7Hr7cE4R"
      },
      "execution_count": 9,
      "outputs": []
    },
    {
      "cell_type": "code",
      "source": [
        "# Hyperparameters\n",
        "batch_size = 32\n",
        "epochs = 10\n",
        "\n",
        "model = create_model()\n",
        "\n",
        "# Implement early stopping to avoid overfitting\n",
        "early_stopping = EarlyStopping(monitor='val_loss', patience=3, restore_best_weights=True)\n"
      ],
      "metadata": {
        "id": "QrqyirYDcJrE"
      },
      "execution_count": 10,
      "outputs": []
    },
    {
      "cell_type": "code",
      "source": [],
      "metadata": {
        "id": "Zsy7UIVzcQxZ"
      },
      "execution_count": null,
      "outputs": []
    },
    {
      "cell_type": "code",
      "source": [
        "model.fit(X_train_smote, y_train_smote, epochs=epochs, batch_size=batch_size, validation_split=0.2, callbacks=[early_stopping])\n"
      ],
      "metadata": {
        "colab": {
          "base_uri": "https://localhost:8080/"
        },
        "id": "Lp4GyEkHcMHz",
        "outputId": "c5e3f4a0-95a9-401d-d7e8-bce6a0784459"
      },
      "execution_count": 11,
      "outputs": [
        {
          "output_type": "stream",
          "name": "stdout",
          "text": [
            "Epoch 1/10\n",
            "11373/11373 [==============================] - 31s 3ms/step - loss: 0.0644 - accuracy: 0.9779 - val_loss: 0.0381 - val_accuracy: 0.9842\n",
            "Epoch 2/10\n",
            "11373/11373 [==============================] - 27s 2ms/step - loss: 0.0358 - accuracy: 0.9874 - val_loss: 0.0214 - val_accuracy: 0.9922\n",
            "Epoch 3/10\n",
            "11373/11373 [==============================] - 27s 2ms/step - loss: 0.0305 - accuracy: 0.9893 - val_loss: 0.0233 - val_accuracy: 0.9920\n",
            "Epoch 4/10\n",
            "11373/11373 [==============================] - 27s 2ms/step - loss: 0.0279 - accuracy: 0.9903 - val_loss: 0.0205 - val_accuracy: 0.9921\n",
            "Epoch 5/10\n",
            "11373/11373 [==============================] - 25s 2ms/step - loss: 0.0268 - accuracy: 0.9908 - val_loss: 0.0154 - val_accuracy: 0.9948\n",
            "Epoch 6/10\n",
            "11373/11373 [==============================] - 27s 2ms/step - loss: 0.0254 - accuracy: 0.9915 - val_loss: 0.0128 - val_accuracy: 0.9974\n",
            "Epoch 7/10\n",
            "11373/11373 [==============================] - 27s 2ms/step - loss: 0.0243 - accuracy: 0.9917 - val_loss: 0.0100 - val_accuracy: 0.9987\n",
            "Epoch 8/10\n",
            "11373/11373 [==============================] - 27s 2ms/step - loss: 0.0230 - accuracy: 0.9920 - val_loss: 0.0119 - val_accuracy: 0.9960\n",
            "Epoch 9/10\n",
            "11373/11373 [==============================] - 25s 2ms/step - loss: 0.0229 - accuracy: 0.9922 - val_loss: 0.0139 - val_accuracy: 0.9955\n",
            "Epoch 10/10\n",
            "11373/11373 [==============================] - 27s 2ms/step - loss: 0.0229 - accuracy: 0.9925 - val_loss: 0.0105 - val_accuracy: 0.9970\n"
          ]
        },
        {
          "output_type": "execute_result",
          "data": {
            "text/plain": [
              "<keras.src.callbacks.History at 0x7e4f0fd4b190>"
            ]
          },
          "metadata": {},
          "execution_count": 11
        }
      ]
    },
    {
      "cell_type": "code",
      "source": [
        "y_pred_prob = model.predict(X_test)\n",
        "y_pred = (y_pred_prob > 0.5).astype(\"int32\")\n"
      ],
      "metadata": {
        "colab": {
          "base_uri": "https://localhost:8080/"
        },
        "id": "QumV2C40cR9U",
        "outputId": "b58efe37-a88f-475e-eb5b-1c857078e9c1"
      },
      "execution_count": 12,
      "outputs": [
        {
          "output_type": "stream",
          "name": "stdout",
          "text": [
            "1781/1781 [==============================] - 2s 1ms/step\n"
          ]
        }
      ]
    },
    {
      "cell_type": "code",
      "source": [
        "accuracy = accuracy_score(y_test, y_pred)\n",
        "precision = precision_score(y_test, y_pred)\n",
        "recall = recall_score(y_test, y_pred)\n",
        "f1 = f1_score(y_test, y_pred)\n",
        "conf_matrix = confusion_matrix(y_test, y_pred)\n",
        "\n",
        "print(\"Optimized Neural Network Model Evaluation\")\n",
        "print(\"Accuracy: {:.4f}\".format(accuracy))\n",
        "print(\"Precision: {:.4f}\".format(precision))\n",
        "print(\"Recall: {:.4f}\".format(recall))\n",
        "print(\"F1 Score: {:.4f}\".format(f1))\n",
        "print(\"Confusion Matrix:\\n\", conf_matrix)\n",
        "print(\"\\nClassification Report:\\n\", classification_report(y_test, y_pred))\n"
      ],
      "metadata": {
        "colab": {
          "base_uri": "https://localhost:8080/"
        },
        "id": "CidhKdo5cSw6",
        "outputId": "b03bbc8f-9830-4e9c-9698-de35ff1cceb1"
      },
      "execution_count": 13,
      "outputs": [
        {
          "output_type": "stream",
          "name": "stdout",
          "text": [
            "Optimized Neural Network Model Evaluation\n",
            "Accuracy: 0.9930\n",
            "Precision: 0.1845\n",
            "Recall: 0.8980\n",
            "F1 Score: 0.3061\n",
            "Confusion Matrix:\n",
            " [[56475   389]\n",
            " [   10    88]]\n",
            "\n",
            "Classification Report:\n",
            "               precision    recall  f1-score   support\n",
            "\n",
            "           0       1.00      0.99      1.00     56864\n",
            "           1       0.18      0.90      0.31        98\n",
            "\n",
            "    accuracy                           0.99     56962\n",
            "   macro avg       0.59      0.95      0.65     56962\n",
            "weighted avg       1.00      0.99      1.00     56962\n",
            "\n"
          ]
        }
      ]
    },
    {
      "cell_type": "code",
      "source": [
        "threshold = 0.3\n",
        "y_pred_adjusted = (y_pred_prob > threshold).astype(\"int32\")\n",
        "\n",
        "\n",
        "accuracy_adj = accuracy_score(y_test, y_pred_adjusted)\n",
        "precision_adj = precision_score(y_test, y_pred_adjusted)\n",
        "recall_adj = recall_score(y_test, y_pred_adjusted)\n",
        "f1_adj = f1_score(y_test, y_pred_adjusted)\n",
        "conf_matrix_adj = confusion_matrix(y_test, y_pred_adjusted)\n",
        "\n",
        "print(\"\\nEvaluation with Adjusted Threshold\")\n",
        "print(\"Accuracy: {:.4f}\".format(accuracy_adj))\n",
        "print(\"Precision: {:.4f}\".format(precision_adj))\n",
        "print(\"Recall: {:.4f}\".format(recall_adj))\n",
        "print(\"F1 Score: {:.4f}\".format(f1_adj))\n",
        "print(\"Confusion Matrix:\\n\", conf_matrix_adj)\n",
        "print(\"\\nClassification Report:\\n\", classification_report(y_test, y_pred_adjusted))\n"
      ],
      "metadata": {
        "colab": {
          "base_uri": "https://localhost:8080/"
        },
        "id": "NOfxLozXceSE",
        "outputId": "6add8eb7-e9e6-4659-e265-5996e8ffb007"
      },
      "execution_count": 14,
      "outputs": [
        {
          "output_type": "stream",
          "name": "stdout",
          "text": [
            "\n",
            "Evaluation with Adjusted Threshold\n",
            "Accuracy: 0.9907\n",
            "Precision: 0.1447\n",
            "Recall: 0.8980\n",
            "F1 Score: 0.2493\n",
            "Confusion Matrix:\n",
            " [[56344   520]\n",
            " [   10    88]]\n",
            "\n",
            "Classification Report:\n",
            "               precision    recall  f1-score   support\n",
            "\n",
            "           0       1.00      0.99      1.00     56864\n",
            "           1       0.14      0.90      0.25        98\n",
            "\n",
            "    accuracy                           0.99     56962\n",
            "   macro avg       0.57      0.94      0.62     56962\n",
            "weighted avg       1.00      0.99      0.99     56962\n",
            "\n"
          ]
        }
      ]
    }
  ]
}