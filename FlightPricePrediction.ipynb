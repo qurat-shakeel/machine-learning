{
  "nbformat": 4,
  "nbformat_minor": 0,
  "metadata": {
    "colab": {
      "provenance": []
    },
    "kernelspec": {
      "name": "python3",
      "display_name": "Python 3"
    },
    "language_info": {
      "name": "python"
    }
  },
  "cells": [
    {
      "cell_type": "code",
      "source": [
        "import pandas as pd\n",
        "import numpy as np\n",
        "from sklearn.model_selection import train_test_split, cross_val_score\n",
        "from sklearn.preprocessing import StandardScaler, OneHotEncoder\n",
        "from sklearn.compose import ColumnTransformer\n",
        "from sklearn.pipeline import Pipeline\n",
        "from sklearn.linear_model import LinearRegression, Ridge, Lasso\n",
        "from sklearn.tree import DecisionTreeRegressor\n",
        "from sklearn.ensemble import RandomForestRegressor, GradientBoostingRegressor\n",
        "from sklearn.metrics import mean_absolute_error, mean_squared_error, r2_score\n",
        "\n",
        "np.random.seed(42)\n",
        "\n",
        "data = pd.read_csv('Clean_Dataset.csv')\n",
        "data\n",
        "\n",
        "X = data.drop('price', axis=1)\n",
        "y = data['price']\n",
        "\n",
        "# Identify numerical and categorical columns\n",
        "numerical_cols = X.select_dtypes(include=np.number).columns.tolist()\n",
        "categorical_cols = X.select_dtypes(include='object').columns.tolist()\n",
        "\n",
        "# Preprocessing pipeline\n",
        "numerical_transformer = StandardScaler()\n",
        "categorical_transformer = OneHotEncoder(drop='first', handle_unknown='ignore')\n",
        "\n",
        "\n",
        "preprocessor = ColumnTransformer(\n",
        "    transformers=[\n",
        "        ('num', numerical_transformer, numerical_cols),\n",
        "        ('cat', categorical_transformer, categorical_cols)\n",
        "    ])\n",
        "\n",
        "# Define regression models to evaluate\n",
        "models = [\n",
        "    ('Linear Regression', LinearRegression()),\n",
        "    ('Ridge Regression', Ridge(random_state=42)),\n",
        "    ('Lasso Regression', Lasso(random_state=42)),\n",
        "    ('Decision Tree Regression', DecisionTreeRegressor(random_state=42)),\n",
        "    ('Random Forest Regression', RandomForestRegressor(random_state=42)),\n",
        "    ('Gradient Boosting Regression', GradientBoostingRegressor(random_state=42))\n",
        "]\n",
        "\n",
        "\n",
        "for name, model in models:\n",
        "\n",
        "    # Create a pipeline combining preprocessing and model\n",
        "    pipeline = Pipeline(steps=[\n",
        "        ('preprocessor', preprocessor),\n",
        "        ('model', model)\n",
        "    ])\n",
        "\n",
        "    # Split the data into training and testing sets\n",
        "    X_train, X_test, y_train, y_test = train_test_split(X, y, test_size=0.2, random_state=42)\n",
        "\n",
        "    # Fit the pipeline (preprocessor + model) on the training data\n",
        "    pipeline.fit(X_train, y_train)\n",
        "\n",
        "    # Predict on the test data\n",
        "    y_pred = pipeline.predict(X_test)\n",
        "\n",
        "    # Evaluate the model\n",
        "    mae = mean_absolute_error(y_test, y_pred)\n",
        "    mse = mean_squared_error(y_test, y_pred)\n",
        "    r2 = r2_score(y_test, y_pred)\n",
        "\n",
        "    print(f\"Model: {name}\")\n",
        "    print(f\"Mean Absolute Error (MAE): {mae:.2f}\")\n",
        "    print(f\"Mean Squared Error (MSE): {mse:.2f}\")\n",
        "    print(f\"R-squared (R2): {r2:.2f}\")\n",
        "    print(\"-----------------------------\")\n"
      ],
      "metadata": {
        "colab": {
          "base_uri": "https://localhost:8080/"
        },
        "id": "TyIQ2ooxwsFY",
        "outputId": "8fc71464-d804-4938-c100-f3b8df0c8284"
      },
      "execution_count": 161,
      "outputs": [
        {
          "output_type": "stream",
          "name": "stderr",
          "text": [
            "/usr/local/lib/python3.10/dist-packages/sklearn/preprocessing/_encoders.py:202: UserWarning: Found unknown categories in columns [1] during transform. These unknown categories will be encoded as all zeros\n",
            "  warnings.warn(\n"
          ]
        },
        {
          "output_type": "stream",
          "name": "stdout",
          "text": [
            "Model: Linear Regression\n",
            "Mean Absolute Error (MAE): 4230.67\n",
            "Mean Squared Error (MSE): 38040507.92\n",
            "R-squared (R2): 0.93\n",
            "-----------------------------\n"
          ]
        },
        {
          "output_type": "stream",
          "name": "stderr",
          "text": [
            "/usr/local/lib/python3.10/dist-packages/sklearn/preprocessing/_encoders.py:202: UserWarning: Found unknown categories in columns [1] during transform. These unknown categories will be encoded as all zeros\n",
            "  warnings.warn(\n"
          ]
        },
        {
          "output_type": "stream",
          "name": "stdout",
          "text": [
            "Model: Ridge Regression\n",
            "Mean Absolute Error (MAE): 4232.89\n",
            "Mean Squared Error (MSE): 38069573.64\n",
            "R-squared (R2): 0.93\n",
            "-----------------------------\n"
          ]
        },
        {
          "output_type": "stream",
          "name": "stderr",
          "text": [
            "/usr/local/lib/python3.10/dist-packages/sklearn/preprocessing/_encoders.py:202: UserWarning: Found unknown categories in columns [1] during transform. These unknown categories will be encoded as all zeros\n",
            "  warnings.warn(\n"
          ]
        },
        {
          "output_type": "stream",
          "name": "stdout",
          "text": [
            "Model: Lasso Regression\n",
            "Mean Absolute Error (MAE): 4316.53\n",
            "Mean Squared Error (MSE): 39344050.20\n",
            "R-squared (R2): 0.92\n",
            "-----------------------------\n"
          ]
        },
        {
          "output_type": "stream",
          "name": "stderr",
          "text": [
            "/usr/local/lib/python3.10/dist-packages/sklearn/preprocessing/_encoders.py:202: UserWarning: Found unknown categories in columns [1] during transform. These unknown categories will be encoded as all zeros\n",
            "  warnings.warn(\n"
          ]
        },
        {
          "output_type": "stream",
          "name": "stdout",
          "text": [
            "Model: Decision Tree Regression\n",
            "Mean Absolute Error (MAE): 736.59\n",
            "Mean Squared Error (MSE): 7199867.98\n",
            "R-squared (R2): 0.99\n",
            "-----------------------------\n"
          ]
        },
        {
          "output_type": "stream",
          "name": "stderr",
          "text": [
            "/usr/local/lib/python3.10/dist-packages/sklearn/preprocessing/_encoders.py:202: UserWarning: Found unknown categories in columns [1] during transform. These unknown categories will be encoded as all zeros\n",
            "  warnings.warn(\n"
          ]
        },
        {
          "output_type": "stream",
          "name": "stdout",
          "text": [
            "Model: Random Forest Regression\n",
            "Mean Absolute Error (MAE): 763.24\n",
            "Mean Squared Error (MSE): 4719069.56\n",
            "R-squared (R2): 0.99\n",
            "-----------------------------\n",
            "Model: Gradient Boosting Regression\n",
            "Mean Absolute Error (MAE): 2848.63\n",
            "Mean Squared Error (MSE): 22647366.15\n",
            "R-squared (R2): 0.96\n",
            "-----------------------------\n"
          ]
        },
        {
          "output_type": "stream",
          "name": "stderr",
          "text": [
            "/usr/local/lib/python3.10/dist-packages/sklearn/preprocessing/_encoders.py:202: UserWarning: Found unknown categories in columns [1] during transform. These unknown categories will be encoded as all zeros\n",
            "  warnings.warn(\n"
          ]
        }
      ]
    }
  ]
}