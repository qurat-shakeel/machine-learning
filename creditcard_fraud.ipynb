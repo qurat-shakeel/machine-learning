{
  "cells": [
    {
      "cell_type": "code",
      "execution_count": 1,
      "metadata": {
        "id": "dypt0JR732q9"
      },
      "outputs": [],
      "source": [
        "import numpy as np\n",
        "import pandas as pd\n",
        "import matplotlib.pyplot as plt\n",
        "import seaborn as sns\n",
        "from sklearn.preprocessing import StandardScaler"
      ]
    },
    {
      "cell_type": "code",
      "execution_count": 2,
      "metadata": {
        "colab": {
          "base_uri": "https://localhost:8080/",
          "height": 443
        },
        "id": "SdsH2pwe9tuk",
        "outputId": "27d24541-0d90-48b9-ad09-899f602b1af0"
      },
      "outputs": [
        {
          "output_type": "execute_result",
          "data": {
            "text/plain": [
              "      Time        V1        V2        V3        V4        V5        V6  \\\n",
              "0        0 -1.359807 -0.072781  2.536347  1.378155 -0.338321  0.462388   \n",
              "1        0  1.191857  0.266151  0.166480  0.448154  0.060018 -0.082361   \n",
              "2        1 -1.358354 -1.340163  1.773209  0.379780 -0.503198  1.800499   \n",
              "3        1 -0.966272 -0.185226  1.792993 -0.863291 -0.010309  1.247203   \n",
              "4        2 -1.158233  0.877737  1.548718  0.403034 -0.407193  0.095921   \n",
              "...    ...       ...       ...       ...       ...       ...       ...   \n",
              "5969  6634 -1.611463  0.190648  0.901715  1.531254 -1.535865  0.799245   \n",
              "5970  6635 -1.420272  1.449354  1.320110 -1.894320  0.913695  0.454601   \n",
              "5971  6637 -1.206696  0.284728  2.152053 -2.850437 -0.437285 -0.238376   \n",
              "5972  6644  1.067611  0.091006 -0.153917  0.704233  0.113894 -0.826866   \n",
              "5973  6645 -0.535272 -0.132299  2.180041  1.018303 -1.498819  0.529570   \n",
              "\n",
              "            V7        V8        V9  ...       V21       V22       V23  \\\n",
              "0     0.239599  0.098698  0.363787  ... -0.018307  0.277838 -0.110474   \n",
              "1    -0.078803  0.085102 -0.255425  ... -0.225775 -0.638672  0.101288   \n",
              "2     0.791461  0.247676 -1.514654  ...  0.247998  0.771679  0.909412   \n",
              "3     0.237609  0.377436 -1.387024  ... -0.108300  0.005274 -0.190321   \n",
              "4     0.592941 -0.270533  0.817739  ... -0.009431  0.798278 -0.137458   \n",
              "...        ...       ...       ...  ...       ...       ...       ...   \n",
              "5969  1.513786  0.495829  0.200390  ...  0.211223  0.007477  1.026272   \n",
              "5970  0.894179 -0.385450  2.433841  ... -0.529027 -0.368394 -0.247773   \n",
              "5971 -0.333341  0.334679  2.870542  ...  0.039460  0.464476 -0.457193   \n",
              "5972  0.567690 -0.464181  0.957295  ... -0.476723 -1.410090 -0.037550   \n",
              "5973  0.420147  0.045445  1.543919  ...       NaN       NaN       NaN   \n",
              "\n",
              "           V24       V25       V26       V27       V28  Amount  Class  \n",
              "0     0.066928  0.128539 -0.189115  0.133558 -0.021053  149.62    0.0  \n",
              "1    -0.339846  0.167170  0.125895 -0.008983  0.014724    2.69    0.0  \n",
              "2    -0.689281 -0.327642 -0.139097 -0.055353 -0.059752  378.66    0.0  \n",
              "3    -1.175575  0.647376 -0.221929  0.062723  0.061458  123.50    0.0  \n",
              "4     0.141267 -0.206010  0.502292  0.219422  0.215153   69.99    0.0  \n",
              "...        ...       ...       ...       ...       ...     ...    ...  \n",
              "5969  0.057628 -0.024955 -0.368263  0.081684  0.140669  458.92    0.0  \n",
              "5970 -1.189156 -0.126040  0.701487  0.277333 -0.222694    0.77    0.0  \n",
              "5971 -0.556105  0.517579  0.008006  0.366054  0.185008   14.00    0.0  \n",
              "5972 -0.177773  0.321810  0.114930 -0.109640  0.023205  139.90    0.0  \n",
              "5973       NaN       NaN       NaN       NaN       NaN     NaN    NaN  \n",
              "\n",
              "[5974 rows x 31 columns]"
            ],
            "text/html": [
              "\n",
              "  <div id=\"df-39000da9-d649-482f-919f-880b9339fd69\" class=\"colab-df-container\">\n",
              "    <div>\n",
              "<style scoped>\n",
              "    .dataframe tbody tr th:only-of-type {\n",
              "        vertical-align: middle;\n",
              "    }\n",
              "\n",
              "    .dataframe tbody tr th {\n",
              "        vertical-align: top;\n",
              "    }\n",
              "\n",
              "    .dataframe thead th {\n",
              "        text-align: right;\n",
              "    }\n",
              "</style>\n",
              "<table border=\"1\" class=\"dataframe\">\n",
              "  <thead>\n",
              "    <tr style=\"text-align: right;\">\n",
              "      <th></th>\n",
              "      <th>Time</th>\n",
              "      <th>V1</th>\n",
              "      <th>V2</th>\n",
              "      <th>V3</th>\n",
              "      <th>V4</th>\n",
              "      <th>V5</th>\n",
              "      <th>V6</th>\n",
              "      <th>V7</th>\n",
              "      <th>V8</th>\n",
              "      <th>V9</th>\n",
              "      <th>...</th>\n",
              "      <th>V21</th>\n",
              "      <th>V22</th>\n",
              "      <th>V23</th>\n",
              "      <th>V24</th>\n",
              "      <th>V25</th>\n",
              "      <th>V26</th>\n",
              "      <th>V27</th>\n",
              "      <th>V28</th>\n",
              "      <th>Amount</th>\n",
              "      <th>Class</th>\n",
              "    </tr>\n",
              "  </thead>\n",
              "  <tbody>\n",
              "    <tr>\n",
              "      <th>0</th>\n",
              "      <td>0</td>\n",
              "      <td>-1.359807</td>\n",
              "      <td>-0.072781</td>\n",
              "      <td>2.536347</td>\n",
              "      <td>1.378155</td>\n",
              "      <td>-0.338321</td>\n",
              "      <td>0.462388</td>\n",
              "      <td>0.239599</td>\n",
              "      <td>0.098698</td>\n",
              "      <td>0.363787</td>\n",
              "      <td>...</td>\n",
              "      <td>-0.018307</td>\n",
              "      <td>0.277838</td>\n",
              "      <td>-0.110474</td>\n",
              "      <td>0.066928</td>\n",
              "      <td>0.128539</td>\n",
              "      <td>-0.189115</td>\n",
              "      <td>0.133558</td>\n",
              "      <td>-0.021053</td>\n",
              "      <td>149.62</td>\n",
              "      <td>0.0</td>\n",
              "    </tr>\n",
              "    <tr>\n",
              "      <th>1</th>\n",
              "      <td>0</td>\n",
              "      <td>1.191857</td>\n",
              "      <td>0.266151</td>\n",
              "      <td>0.166480</td>\n",
              "      <td>0.448154</td>\n",
              "      <td>0.060018</td>\n",
              "      <td>-0.082361</td>\n",
              "      <td>-0.078803</td>\n",
              "      <td>0.085102</td>\n",
              "      <td>-0.255425</td>\n",
              "      <td>...</td>\n",
              "      <td>-0.225775</td>\n",
              "      <td>-0.638672</td>\n",
              "      <td>0.101288</td>\n",
              "      <td>-0.339846</td>\n",
              "      <td>0.167170</td>\n",
              "      <td>0.125895</td>\n",
              "      <td>-0.008983</td>\n",
              "      <td>0.014724</td>\n",
              "      <td>2.69</td>\n",
              "      <td>0.0</td>\n",
              "    </tr>\n",
              "    <tr>\n",
              "      <th>2</th>\n",
              "      <td>1</td>\n",
              "      <td>-1.358354</td>\n",
              "      <td>-1.340163</td>\n",
              "      <td>1.773209</td>\n",
              "      <td>0.379780</td>\n",
              "      <td>-0.503198</td>\n",
              "      <td>1.800499</td>\n",
              "      <td>0.791461</td>\n",
              "      <td>0.247676</td>\n",
              "      <td>-1.514654</td>\n",
              "      <td>...</td>\n",
              "      <td>0.247998</td>\n",
              "      <td>0.771679</td>\n",
              "      <td>0.909412</td>\n",
              "      <td>-0.689281</td>\n",
              "      <td>-0.327642</td>\n",
              "      <td>-0.139097</td>\n",
              "      <td>-0.055353</td>\n",
              "      <td>-0.059752</td>\n",
              "      <td>378.66</td>\n",
              "      <td>0.0</td>\n",
              "    </tr>\n",
              "    <tr>\n",
              "      <th>3</th>\n",
              "      <td>1</td>\n",
              "      <td>-0.966272</td>\n",
              "      <td>-0.185226</td>\n",
              "      <td>1.792993</td>\n",
              "      <td>-0.863291</td>\n",
              "      <td>-0.010309</td>\n",
              "      <td>1.247203</td>\n",
              "      <td>0.237609</td>\n",
              "      <td>0.377436</td>\n",
              "      <td>-1.387024</td>\n",
              "      <td>...</td>\n",
              "      <td>-0.108300</td>\n",
              "      <td>0.005274</td>\n",
              "      <td>-0.190321</td>\n",
              "      <td>-1.175575</td>\n",
              "      <td>0.647376</td>\n",
              "      <td>-0.221929</td>\n",
              "      <td>0.062723</td>\n",
              "      <td>0.061458</td>\n",
              "      <td>123.50</td>\n",
              "      <td>0.0</td>\n",
              "    </tr>\n",
              "    <tr>\n",
              "      <th>4</th>\n",
              "      <td>2</td>\n",
              "      <td>-1.158233</td>\n",
              "      <td>0.877737</td>\n",
              "      <td>1.548718</td>\n",
              "      <td>0.403034</td>\n",
              "      <td>-0.407193</td>\n",
              "      <td>0.095921</td>\n",
              "      <td>0.592941</td>\n",
              "      <td>-0.270533</td>\n",
              "      <td>0.817739</td>\n",
              "      <td>...</td>\n",
              "      <td>-0.009431</td>\n",
              "      <td>0.798278</td>\n",
              "      <td>-0.137458</td>\n",
              "      <td>0.141267</td>\n",
              "      <td>-0.206010</td>\n",
              "      <td>0.502292</td>\n",
              "      <td>0.219422</td>\n",
              "      <td>0.215153</td>\n",
              "      <td>69.99</td>\n",
              "      <td>0.0</td>\n",
              "    </tr>\n",
              "    <tr>\n",
              "      <th>...</th>\n",
              "      <td>...</td>\n",
              "      <td>...</td>\n",
              "      <td>...</td>\n",
              "      <td>...</td>\n",
              "      <td>...</td>\n",
              "      <td>...</td>\n",
              "      <td>...</td>\n",
              "      <td>...</td>\n",
              "      <td>...</td>\n",
              "      <td>...</td>\n",
              "      <td>...</td>\n",
              "      <td>...</td>\n",
              "      <td>...</td>\n",
              "      <td>...</td>\n",
              "      <td>...</td>\n",
              "      <td>...</td>\n",
              "      <td>...</td>\n",
              "      <td>...</td>\n",
              "      <td>...</td>\n",
              "      <td>...</td>\n",
              "      <td>...</td>\n",
              "    </tr>\n",
              "    <tr>\n",
              "      <th>5969</th>\n",
              "      <td>6634</td>\n",
              "      <td>-1.611463</td>\n",
              "      <td>0.190648</td>\n",
              "      <td>0.901715</td>\n",
              "      <td>1.531254</td>\n",
              "      <td>-1.535865</td>\n",
              "      <td>0.799245</td>\n",
              "      <td>1.513786</td>\n",
              "      <td>0.495829</td>\n",
              "      <td>0.200390</td>\n",
              "      <td>...</td>\n",
              "      <td>0.211223</td>\n",
              "      <td>0.007477</td>\n",
              "      <td>1.026272</td>\n",
              "      <td>0.057628</td>\n",
              "      <td>-0.024955</td>\n",
              "      <td>-0.368263</td>\n",
              "      <td>0.081684</td>\n",
              "      <td>0.140669</td>\n",
              "      <td>458.92</td>\n",
              "      <td>0.0</td>\n",
              "    </tr>\n",
              "    <tr>\n",
              "      <th>5970</th>\n",
              "      <td>6635</td>\n",
              "      <td>-1.420272</td>\n",
              "      <td>1.449354</td>\n",
              "      <td>1.320110</td>\n",
              "      <td>-1.894320</td>\n",
              "      <td>0.913695</td>\n",
              "      <td>0.454601</td>\n",
              "      <td>0.894179</td>\n",
              "      <td>-0.385450</td>\n",
              "      <td>2.433841</td>\n",
              "      <td>...</td>\n",
              "      <td>-0.529027</td>\n",
              "      <td>-0.368394</td>\n",
              "      <td>-0.247773</td>\n",
              "      <td>-1.189156</td>\n",
              "      <td>-0.126040</td>\n",
              "      <td>0.701487</td>\n",
              "      <td>0.277333</td>\n",
              "      <td>-0.222694</td>\n",
              "      <td>0.77</td>\n",
              "      <td>0.0</td>\n",
              "    </tr>\n",
              "    <tr>\n",
              "      <th>5971</th>\n",
              "      <td>6637</td>\n",
              "      <td>-1.206696</td>\n",
              "      <td>0.284728</td>\n",
              "      <td>2.152053</td>\n",
              "      <td>-2.850437</td>\n",
              "      <td>-0.437285</td>\n",
              "      <td>-0.238376</td>\n",
              "      <td>-0.333341</td>\n",
              "      <td>0.334679</td>\n",
              "      <td>2.870542</td>\n",
              "      <td>...</td>\n",
              "      <td>0.039460</td>\n",
              "      <td>0.464476</td>\n",
              "      <td>-0.457193</td>\n",
              "      <td>-0.556105</td>\n",
              "      <td>0.517579</td>\n",
              "      <td>0.008006</td>\n",
              "      <td>0.366054</td>\n",
              "      <td>0.185008</td>\n",
              "      <td>14.00</td>\n",
              "      <td>0.0</td>\n",
              "    </tr>\n",
              "    <tr>\n",
              "      <th>5972</th>\n",
              "      <td>6644</td>\n",
              "      <td>1.067611</td>\n",
              "      <td>0.091006</td>\n",
              "      <td>-0.153917</td>\n",
              "      <td>0.704233</td>\n",
              "      <td>0.113894</td>\n",
              "      <td>-0.826866</td>\n",
              "      <td>0.567690</td>\n",
              "      <td>-0.464181</td>\n",
              "      <td>0.957295</td>\n",
              "      <td>...</td>\n",
              "      <td>-0.476723</td>\n",
              "      <td>-1.410090</td>\n",
              "      <td>-0.037550</td>\n",
              "      <td>-0.177773</td>\n",
              "      <td>0.321810</td>\n",
              "      <td>0.114930</td>\n",
              "      <td>-0.109640</td>\n",
              "      <td>0.023205</td>\n",
              "      <td>139.90</td>\n",
              "      <td>0.0</td>\n",
              "    </tr>\n",
              "    <tr>\n",
              "      <th>5973</th>\n",
              "      <td>6645</td>\n",
              "      <td>-0.535272</td>\n",
              "      <td>-0.132299</td>\n",
              "      <td>2.180041</td>\n",
              "      <td>1.018303</td>\n",
              "      <td>-1.498819</td>\n",
              "      <td>0.529570</td>\n",
              "      <td>0.420147</td>\n",
              "      <td>0.045445</td>\n",
              "      <td>1.543919</td>\n",
              "      <td>...</td>\n",
              "      <td>NaN</td>\n",
              "      <td>NaN</td>\n",
              "      <td>NaN</td>\n",
              "      <td>NaN</td>\n",
              "      <td>NaN</td>\n",
              "      <td>NaN</td>\n",
              "      <td>NaN</td>\n",
              "      <td>NaN</td>\n",
              "      <td>NaN</td>\n",
              "      <td>NaN</td>\n",
              "    </tr>\n",
              "  </tbody>\n",
              "</table>\n",
              "<p>5974 rows × 31 columns</p>\n",
              "</div>\n",
              "    <div class=\"colab-df-buttons\">\n",
              "\n",
              "  <div class=\"colab-df-container\">\n",
              "    <button class=\"colab-df-convert\" onclick=\"convertToInteractive('df-39000da9-d649-482f-919f-880b9339fd69')\"\n",
              "            title=\"Convert this dataframe to an interactive table.\"\n",
              "            style=\"display:none;\">\n",
              "\n",
              "  <svg xmlns=\"http://www.w3.org/2000/svg\" height=\"24px\" viewBox=\"0 -960 960 960\">\n",
              "    <path d=\"M120-120v-720h720v720H120Zm60-500h600v-160H180v160Zm220 220h160v-160H400v160Zm0 220h160v-160H400v160ZM180-400h160v-160H180v160Zm440 0h160v-160H620v160ZM180-180h160v-160H180v160Zm440 0h160v-160H620v160Z\"/>\n",
              "  </svg>\n",
              "    </button>\n",
              "\n",
              "  <style>\n",
              "    .colab-df-container {\n",
              "      display:flex;\n",
              "      gap: 12px;\n",
              "    }\n",
              "\n",
              "    .colab-df-convert {\n",
              "      background-color: #E8F0FE;\n",
              "      border: none;\n",
              "      border-radius: 50%;\n",
              "      cursor: pointer;\n",
              "      display: none;\n",
              "      fill: #1967D2;\n",
              "      height: 32px;\n",
              "      padding: 0 0 0 0;\n",
              "      width: 32px;\n",
              "    }\n",
              "\n",
              "    .colab-df-convert:hover {\n",
              "      background-color: #E2EBFA;\n",
              "      box-shadow: 0px 1px 2px rgba(60, 64, 67, 0.3), 0px 1px 3px 1px rgba(60, 64, 67, 0.15);\n",
              "      fill: #174EA6;\n",
              "    }\n",
              "\n",
              "    .colab-df-buttons div {\n",
              "      margin-bottom: 4px;\n",
              "    }\n",
              "\n",
              "    [theme=dark] .colab-df-convert {\n",
              "      background-color: #3B4455;\n",
              "      fill: #D2E3FC;\n",
              "    }\n",
              "\n",
              "    [theme=dark] .colab-df-convert:hover {\n",
              "      background-color: #434B5C;\n",
              "      box-shadow: 0px 1px 3px 1px rgba(0, 0, 0, 0.15);\n",
              "      filter: drop-shadow(0px 1px 2px rgba(0, 0, 0, 0.3));\n",
              "      fill: #FFFFFF;\n",
              "    }\n",
              "  </style>\n",
              "\n",
              "    <script>\n",
              "      const buttonEl =\n",
              "        document.querySelector('#df-39000da9-d649-482f-919f-880b9339fd69 button.colab-df-convert');\n",
              "      buttonEl.style.display =\n",
              "        google.colab.kernel.accessAllowed ? 'block' : 'none';\n",
              "\n",
              "      async function convertToInteractive(key) {\n",
              "        const element = document.querySelector('#df-39000da9-d649-482f-919f-880b9339fd69');\n",
              "        const dataTable =\n",
              "          await google.colab.kernel.invokeFunction('convertToInteractive',\n",
              "                                                    [key], {});\n",
              "        if (!dataTable) return;\n",
              "\n",
              "        const docLinkHtml = 'Like what you see? Visit the ' +\n",
              "          '<a target=\"_blank\" href=https://colab.research.google.com/notebooks/data_table.ipynb>data table notebook</a>'\n",
              "          + ' to learn more about interactive tables.';\n",
              "        element.innerHTML = '';\n",
              "        dataTable['output_type'] = 'display_data';\n",
              "        await google.colab.output.renderOutput(dataTable, element);\n",
              "        const docLink = document.createElement('div');\n",
              "        docLink.innerHTML = docLinkHtml;\n",
              "        element.appendChild(docLink);\n",
              "      }\n",
              "    </script>\n",
              "  </div>\n",
              "\n",
              "\n",
              "<div id=\"df-5abf356f-5bc5-4a4b-99e5-52c423faccfd\">\n",
              "  <button class=\"colab-df-quickchart\" onclick=\"quickchart('df-5abf356f-5bc5-4a4b-99e5-52c423faccfd')\"\n",
              "            title=\"Suggest charts\"\n",
              "            style=\"display:none;\">\n",
              "\n",
              "<svg xmlns=\"http://www.w3.org/2000/svg\" height=\"24px\"viewBox=\"0 0 24 24\"\n",
              "     width=\"24px\">\n",
              "    <g>\n",
              "        <path d=\"M19 3H5c-1.1 0-2 .9-2 2v14c0 1.1.9 2 2 2h14c1.1 0 2-.9 2-2V5c0-1.1-.9-2-2-2zM9 17H7v-7h2v7zm4 0h-2V7h2v10zm4 0h-2v-4h2v4z\"/>\n",
              "    </g>\n",
              "</svg>\n",
              "  </button>\n",
              "\n",
              "<style>\n",
              "  .colab-df-quickchart {\n",
              "      --bg-color: #E8F0FE;\n",
              "      --fill-color: #1967D2;\n",
              "      --hover-bg-color: #E2EBFA;\n",
              "      --hover-fill-color: #174EA6;\n",
              "      --disabled-fill-color: #AAA;\n",
              "      --disabled-bg-color: #DDD;\n",
              "  }\n",
              "\n",
              "  [theme=dark] .colab-df-quickchart {\n",
              "      --bg-color: #3B4455;\n",
              "      --fill-color: #D2E3FC;\n",
              "      --hover-bg-color: #434B5C;\n",
              "      --hover-fill-color: #FFFFFF;\n",
              "      --disabled-bg-color: #3B4455;\n",
              "      --disabled-fill-color: #666;\n",
              "  }\n",
              "\n",
              "  .colab-df-quickchart {\n",
              "    background-color: var(--bg-color);\n",
              "    border: none;\n",
              "    border-radius: 50%;\n",
              "    cursor: pointer;\n",
              "    display: none;\n",
              "    fill: var(--fill-color);\n",
              "    height: 32px;\n",
              "    padding: 0;\n",
              "    width: 32px;\n",
              "  }\n",
              "\n",
              "  .colab-df-quickchart:hover {\n",
              "    background-color: var(--hover-bg-color);\n",
              "    box-shadow: 0 1px 2px rgba(60, 64, 67, 0.3), 0 1px 3px 1px rgba(60, 64, 67, 0.15);\n",
              "    fill: var(--button-hover-fill-color);\n",
              "  }\n",
              "\n",
              "  .colab-df-quickchart-complete:disabled,\n",
              "  .colab-df-quickchart-complete:disabled:hover {\n",
              "    background-color: var(--disabled-bg-color);\n",
              "    fill: var(--disabled-fill-color);\n",
              "    box-shadow: none;\n",
              "  }\n",
              "\n",
              "  .colab-df-spinner {\n",
              "    border: 2px solid var(--fill-color);\n",
              "    border-color: transparent;\n",
              "    border-bottom-color: var(--fill-color);\n",
              "    animation:\n",
              "      spin 1s steps(1) infinite;\n",
              "  }\n",
              "\n",
              "  @keyframes spin {\n",
              "    0% {\n",
              "      border-color: transparent;\n",
              "      border-bottom-color: var(--fill-color);\n",
              "      border-left-color: var(--fill-color);\n",
              "    }\n",
              "    20% {\n",
              "      border-color: transparent;\n",
              "      border-left-color: var(--fill-color);\n",
              "      border-top-color: var(--fill-color);\n",
              "    }\n",
              "    30% {\n",
              "      border-color: transparent;\n",
              "      border-left-color: var(--fill-color);\n",
              "      border-top-color: var(--fill-color);\n",
              "      border-right-color: var(--fill-color);\n",
              "    }\n",
              "    40% {\n",
              "      border-color: transparent;\n",
              "      border-right-color: var(--fill-color);\n",
              "      border-top-color: var(--fill-color);\n",
              "    }\n",
              "    60% {\n",
              "      border-color: transparent;\n",
              "      border-right-color: var(--fill-color);\n",
              "    }\n",
              "    80% {\n",
              "      border-color: transparent;\n",
              "      border-right-color: var(--fill-color);\n",
              "      border-bottom-color: var(--fill-color);\n",
              "    }\n",
              "    90% {\n",
              "      border-color: transparent;\n",
              "      border-bottom-color: var(--fill-color);\n",
              "    }\n",
              "  }\n",
              "</style>\n",
              "\n",
              "  <script>\n",
              "    async function quickchart(key) {\n",
              "      const quickchartButtonEl =\n",
              "        document.querySelector('#' + key + ' button');\n",
              "      quickchartButtonEl.disabled = true;  // To prevent multiple clicks.\n",
              "      quickchartButtonEl.classList.add('colab-df-spinner');\n",
              "      try {\n",
              "        const charts = await google.colab.kernel.invokeFunction(\n",
              "            'suggestCharts', [key], {});\n",
              "      } catch (error) {\n",
              "        console.error('Error during call to suggestCharts:', error);\n",
              "      }\n",
              "      quickchartButtonEl.classList.remove('colab-df-spinner');\n",
              "      quickchartButtonEl.classList.add('colab-df-quickchart-complete');\n",
              "    }\n",
              "    (() => {\n",
              "      let quickchartButtonEl =\n",
              "        document.querySelector('#df-5abf356f-5bc5-4a4b-99e5-52c423faccfd button');\n",
              "      quickchartButtonEl.style.display =\n",
              "        google.colab.kernel.accessAllowed ? 'block' : 'none';\n",
              "    })();\n",
              "  </script>\n",
              "</div>\n",
              "\n",
              "  <div id=\"id_3880afb8-9c2c-440c-a87c-bee522560f61\">\n",
              "    <style>\n",
              "      .colab-df-generate {\n",
              "        background-color: #E8F0FE;\n",
              "        border: none;\n",
              "        border-radius: 50%;\n",
              "        cursor: pointer;\n",
              "        display: none;\n",
              "        fill: #1967D2;\n",
              "        height: 32px;\n",
              "        padding: 0 0 0 0;\n",
              "        width: 32px;\n",
              "      }\n",
              "\n",
              "      .colab-df-generate:hover {\n",
              "        background-color: #E2EBFA;\n",
              "        box-shadow: 0px 1px 2px rgba(60, 64, 67, 0.3), 0px 1px 3px 1px rgba(60, 64, 67, 0.15);\n",
              "        fill: #174EA6;\n",
              "      }\n",
              "\n",
              "      [theme=dark] .colab-df-generate {\n",
              "        background-color: #3B4455;\n",
              "        fill: #D2E3FC;\n",
              "      }\n",
              "\n",
              "      [theme=dark] .colab-df-generate:hover {\n",
              "        background-color: #434B5C;\n",
              "        box-shadow: 0px 1px 3px 1px rgba(0, 0, 0, 0.15);\n",
              "        filter: drop-shadow(0px 1px 2px rgba(0, 0, 0, 0.3));\n",
              "        fill: #FFFFFF;\n",
              "      }\n",
              "    </style>\n",
              "    <button class=\"colab-df-generate\" onclick=\"generateWithVariable('df')\"\n",
              "            title=\"Generate code using this dataframe.\"\n",
              "            style=\"display:none;\">\n",
              "\n",
              "  <svg xmlns=\"http://www.w3.org/2000/svg\" height=\"24px\"viewBox=\"0 0 24 24\"\n",
              "       width=\"24px\">\n",
              "    <path d=\"M7,19H8.4L18.45,9,17,7.55,7,17.6ZM5,21V16.75L18.45,3.32a2,2,0,0,1,2.83,0l1.4,1.43a1.91,1.91,0,0,1,.58,1.4,1.91,1.91,0,0,1-.58,1.4L9.25,21ZM18.45,9,17,7.55Zm-12,3A5.31,5.31,0,0,0,4.9,8.1,5.31,5.31,0,0,0,1,6.5,5.31,5.31,0,0,0,4.9,4.9,5.31,5.31,0,0,0,6.5,1,5.31,5.31,0,0,0,8.1,4.9,5.31,5.31,0,0,0,12,6.5,5.46,5.46,0,0,0,6.5,12Z\"/>\n",
              "  </svg>\n",
              "    </button>\n",
              "    <script>\n",
              "      (() => {\n",
              "      const buttonEl =\n",
              "        document.querySelector('#id_3880afb8-9c2c-440c-a87c-bee522560f61 button.colab-df-generate');\n",
              "      buttonEl.style.display =\n",
              "        google.colab.kernel.accessAllowed ? 'block' : 'none';\n",
              "\n",
              "      buttonEl.onclick = () => {\n",
              "        google.colab.notebook.generateWithVariable('df');\n",
              "      }\n",
              "      })();\n",
              "    </script>\n",
              "  </div>\n",
              "\n",
              "    </div>\n",
              "  </div>\n"
            ],
            "application/vnd.google.colaboratory.intrinsic+json": {
              "type": "dataframe",
              "variable_name": "df"
            }
          },
          "metadata": {},
          "execution_count": 2
        }
      ],
      "source": [
        "df = pd.read_csv('creditcard.csv')\n",
        "df"
      ]
    },
    {
      "cell_type": "code",
      "execution_count": 3,
      "metadata": {
        "colab": {
          "base_uri": "https://localhost:8080/"
        },
        "id": "aEg2L3ugjcsz",
        "outputId": "107d9802-1a5f-4d4e-e5be-0fdcf24ecd7a"
      },
      "outputs": [
        {
          "output_type": "stream",
          "name": "stdout",
          "text": [
            "   Time        V1        V2        V3        V4        V5        V6        V7  \\\n",
            "0     0 -1.359807 -0.072781  2.536347  1.378155 -0.338321  0.462388  0.239599   \n",
            "1     0  1.191857  0.266151  0.166480  0.448154  0.060018 -0.082361 -0.078803   \n",
            "2     1 -1.358354 -1.340163  1.773209  0.379780 -0.503198  1.800499  0.791461   \n",
            "3     1 -0.966272 -0.185226  1.792993 -0.863291 -0.010309  1.247203  0.237609   \n",
            "4     2 -1.158233  0.877737  1.548718  0.403034 -0.407193  0.095921  0.592941   \n",
            "\n",
            "         V8        V9  ...       V21       V22       V23       V24       V25  \\\n",
            "0  0.098698  0.363787  ... -0.018307  0.277838 -0.110474  0.066928  0.128539   \n",
            "1  0.085102 -0.255425  ... -0.225775 -0.638672  0.101288 -0.339846  0.167170   \n",
            "2  0.247676 -1.514654  ...  0.247998  0.771679  0.909412 -0.689281 -0.327642   \n",
            "3  0.377436 -1.387024  ... -0.108300  0.005274 -0.190321 -1.175575  0.647376   \n",
            "4 -0.270533  0.817739  ... -0.009431  0.798278 -0.137458  0.141267 -0.206010   \n",
            "\n",
            "        V26       V27       V28  Amount  Class  \n",
            "0 -0.189115  0.133558 -0.021053  149.62    0.0  \n",
            "1  0.125895 -0.008983  0.014724    2.69    0.0  \n",
            "2 -0.139097 -0.055353 -0.059752  378.66    0.0  \n",
            "3 -0.221929  0.062723  0.061458  123.50    0.0  \n",
            "4  0.502292  0.219422  0.215153   69.99    0.0  \n",
            "\n",
            "[5 rows x 31 columns]\n"
          ]
        }
      ],
      "source": [
        "print(df.head())\n",
        "\n"
      ]
    },
    {
      "cell_type": "code",
      "execution_count": 4,
      "metadata": {
        "colab": {
          "base_uri": "https://localhost:8080/"
        },
        "id": "XA0OuvyZjyfG",
        "outputId": "0fe4b05c-b3ca-4801-e028-703b06913fa8"
      },
      "outputs": [
        {
          "output_type": "stream",
          "name": "stdout",
          "text": [
            "<class 'pandas.core.frame.DataFrame'>\n",
            "RangeIndex: 5974 entries, 0 to 5973\n",
            "Data columns (total 31 columns):\n",
            " #   Column  Non-Null Count  Dtype  \n",
            "---  ------  --------------  -----  \n",
            " 0   Time    5974 non-null   int64  \n",
            " 1   V1      5974 non-null   float64\n",
            " 2   V2      5974 non-null   float64\n",
            " 3   V3      5974 non-null   float64\n",
            " 4   V4      5974 non-null   float64\n",
            " 5   V5      5974 non-null   float64\n",
            " 6   V6      5974 non-null   float64\n",
            " 7   V7      5974 non-null   float64\n",
            " 8   V8      5974 non-null   float64\n",
            " 9   V9      5974 non-null   float64\n",
            " 10  V10     5974 non-null   float64\n",
            " 11  V11     5974 non-null   float64\n",
            " 12  V12     5974 non-null   float64\n",
            " 13  V13     5974 non-null   float64\n",
            " 14  V14     5974 non-null   float64\n",
            " 15  V15     5974 non-null   float64\n",
            " 16  V16     5974 non-null   float64\n",
            " 17  V17     5974 non-null   float64\n",
            " 18  V18     5973 non-null   float64\n",
            " 19  V19     5973 non-null   float64\n",
            " 20  V20     5973 non-null   float64\n",
            " 21  V21     5973 non-null   float64\n",
            " 22  V22     5973 non-null   float64\n",
            " 23  V23     5973 non-null   float64\n",
            " 24  V24     5973 non-null   float64\n",
            " 25  V25     5973 non-null   float64\n",
            " 26  V26     5973 non-null   float64\n",
            " 27  V27     5973 non-null   float64\n",
            " 28  V28     5973 non-null   float64\n",
            " 29  Amount  5973 non-null   float64\n",
            " 30  Class   5973 non-null   float64\n",
            "dtypes: float64(30), int64(1)\n",
            "memory usage: 1.4 MB\n",
            "None\n"
          ]
        }
      ],
      "source": [
        "print(df.info())\n"
      ]
    },
    {
      "cell_type": "code",
      "execution_count": 5,
      "metadata": {
        "colab": {
          "base_uri": "https://localhost:8080/"
        },
        "id": "e0ZFTYMUj-Eg",
        "outputId": "bfc8f42f-86a5-4d03-aa35-5ec71832e721"
      },
      "outputs": [
        {
          "output_type": "stream",
          "name": "stdout",
          "text": [
            "              Time           V1           V2           V3           V4  \\\n",
            "count  5974.000000  5974.000000  5974.000000  5974.000000  5974.000000   \n",
            "mean   2677.615501    -0.266159     0.285505     0.844231     0.104200   \n",
            "std    1765.025532     1.395405     1.208867     1.031448     1.442339   \n",
            "min       0.000000   -12.168192   -15.732974   -12.389545    -4.657545   \n",
            "25%    1162.250000    -1.015749    -0.280054     0.295701    -0.839417   \n",
            "50%    2537.000000    -0.420703     0.346083     0.882882     0.161767   \n",
            "75%    3781.750000     1.115402     0.941548     1.504158     1.071412   \n",
            "max    6645.000000     1.685314     7.467017     4.101716     6.013346   \n",
            "\n",
            "                V5           V6           V7           V8           V9  ...  \\\n",
            "count  5974.000000  5974.000000  5974.000000  5974.000000  5974.000000  ...   \n",
            "mean      0.000709     0.194948     0.018324    -0.039006     0.396916  ...   \n",
            "std       1.185900     1.365525     1.059870     1.304005     1.047749  ...   \n",
            "min     -32.092129    -7.465603   -12.968670   -23.632502    -3.336805  ...   \n",
            "25%      -0.609206    -0.677720    -0.492968    -0.189736    -0.264280  ...   \n",
            "50%      -0.083983    -0.142606     0.041761     0.037831     0.360826  ...   \n",
            "75%       0.441406     0.605784     0.566306     0.343067     0.961662  ...   \n",
            "max      10.658654    21.393069    34.303177     3.877662     9.272376  ...   \n",
            "\n",
            "               V21          V22          V23          V24          V25  \\\n",
            "count  5973.000000  5973.000000  5973.000000  5973.000000  5973.000000   \n",
            "mean     -0.043098    -0.161548    -0.036483     0.028960     0.089873   \n",
            "std       0.883330     0.646380     0.373210     0.619810     0.407680   \n",
            "min     -11.468435    -8.454599    -7.996811    -2.512377    -2.322906   \n",
            "25%      -0.260507    -0.594625    -0.187108    -0.350226    -0.152744   \n",
            "50%      -0.111701    -0.177197    -0.046772     0.094946     0.106290   \n",
            "75%       0.059809     0.273148     0.088154     0.435670     0.355157   \n",
            "max      22.580675     4.393846     4.095021     3.200201     1.972515   \n",
            "\n",
            "               V26          V27          V28       Amount        Class  \n",
            "count  5973.000000  5973.000000  5973.000000  5973.000000  5973.000000  \n",
            "mean     -0.040197     0.025234     0.006116    65.061811     0.000502  \n",
            "std       0.488284     0.364482     0.265131   192.490314     0.022407  \n",
            "min      -1.338556    -7.976100    -2.909294     0.000000     0.000000  \n",
            "25%      -0.399334    -0.049681    -0.017776     4.450000     0.000000  \n",
            "50%      -0.079583     0.015976     0.019417    15.620000     0.000000  \n",
            "75%       0.245560     0.155281     0.082701    56.660000     0.000000  \n",
            "max       3.463246     3.852046     4.860769  7712.430000     1.000000  \n",
            "\n",
            "[8 rows x 31 columns]\n"
          ]
        }
      ],
      "source": [
        "print(df.describe())"
      ]
    },
    {
      "cell_type": "code",
      "execution_count": 6,
      "metadata": {
        "colab": {
          "base_uri": "https://localhost:8080/"
        },
        "id": "iYhmZaDTCkQl",
        "outputId": "eb78031b-3cef-4943-81ae-5d520c484889"
      },
      "outputs": [
        {
          "output_type": "execute_result",
          "data": {
            "text/plain": [
              "Class\n",
              "0.0    5970\n",
              "1.0       3\n",
              "Name: count, dtype: int64"
            ]
          },
          "metadata": {},
          "execution_count": 6
        }
      ],
      "source": [
        "# Count the number of fraud and non-fraud transactions\n",
        "fraud_count = df['Class'].value_counts()\n",
        "fraud_count"
      ]
    },
    {
      "cell_type": "code",
      "execution_count": 7,
      "metadata": {
        "colab": {
          "base_uri": "https://localhost:8080/"
        },
        "id": "8JHfezdr9uGn",
        "outputId": "2862d9b3-d8aa-492e-d3dc-9b502eff45c2"
      },
      "outputs": [
        {
          "output_type": "stream",
          "name": "stdout",
          "text": [
            "Missing values in each column:\n",
            " V18       1\n",
            "V19       1\n",
            "V20       1\n",
            "V21       1\n",
            "V22       1\n",
            "V23       1\n",
            "V24       1\n",
            "V25       1\n",
            "V26       1\n",
            "V27       1\n",
            "V28       1\n",
            "Amount    1\n",
            "Class     1\n",
            "dtype: int64\n"
          ]
        }
      ],
      "source": [
        "missing_values = df.isnull().sum()\n",
        "print(\"Missing values in each column:\\n\", missing_values[missing_values > 0])"
      ]
    },
    {
      "cell_type": "code",
      "execution_count": 8,
      "metadata": {
        "id": "2LIxPd_d-Wuk"
      },
      "outputs": [],
      "source": [
        "df.fillna(df.mean(), inplace=True)\n",
        "\n",
        "df.dropna(inplace=True)\n"
      ]
    },
    {
      "cell_type": "code",
      "execution_count": 9,
      "metadata": {
        "colab": {
          "base_uri": "https://localhost:8080/"
        },
        "id": "sutOKHhilhqP",
        "outputId": "a2ecacce-2983-4ccc-f3f6-09441cd61e74"
      },
      "outputs": [
        {
          "output_type": "stream",
          "name": "stdout",
          "text": [
            "36\n"
          ]
        }
      ],
      "source": [
        "print(df.duplicated().sum())\n",
        "\n",
        "# Remove duplicates\n",
        "df.drop_duplicates(inplace=True)\n"
      ]
    },
    {
      "cell_type": "code",
      "execution_count": 10,
      "metadata": {
        "colab": {
          "base_uri": "https://localhost:8080/"
        },
        "id": "KqLRTTe1-v42",
        "outputId": "16b8027b-2d39-497d-f196-d8f58aa5a778"
      },
      "outputs": [
        {
          "output_type": "stream",
          "name": "stdout",
          "text": [
            "Sizes: [5934, 3]\n",
            "Labels: ['Non-Fraud', 'Fraud']\n"
          ]
        }
      ],
      "source": [
        "# Count the number of fraud and non-fraud transactions\n",
        "fraud_count = df['Class'].value_counts()\n",
        "\n",
        "# Ensure the data is in a 1D array-like structure\n",
        "labels = ['Non-Fraud', 'Fraud']\n",
        "sizes = [fraud_count[0], fraud_count[1]]\n",
        "\n",
        "print(\"Sizes:\", sizes)\n",
        "print(\"Labels:\", labels)\n"
      ]
    },
    {
      "cell_type": "code",
      "execution_count": 11,
      "metadata": {
        "colab": {
          "base_uri": "https://localhost:8080/",
          "height": 569
        },
        "id": "e2TwDlMJuWdY",
        "outputId": "84a34a3d-3f49-4db8-b859-45cfeb4aa262"
      },
      "outputs": [
        {
          "output_type": "display_data",
          "data": {
            "text/plain": [
              "<Figure size 800x800 with 1 Axes>"
            ],
            "image/png": "[encoded data removed]"
          },
          "metadata": {}
        }
      ],
      "source": [
        "\n",
        "\n",
        "# Plot the pie chart\n",
        "plt.figure(figsize=(8, 8))\n",
        "plt.pie(sizes, labels=labels, autopct='%1.1f%%')\n",
        "\n",
        "# Equal aspect ratio ensures that pie is drawn as a circle.\n",
        "plt.axis('equal')\n",
        "plt.title('Fraud vs Non-Fraud Transactions')\n",
        "plt.show()\n"
      ]
    },
    {
      "cell_type": "code",
      "execution_count": 12,
      "metadata": {
        "colab": {
          "base_uri": "https://localhost:8080/"
        },
        "id": "20f-EzWStNaW",
        "outputId": "0288cfe1-2311-40d9-b323-f3c05fbb450c"
      },
      "outputs": [
        {
          "output_type": "stream",
          "name": "stdout",
          "text": [
            "Column names in the dataset: Index(['Time', 'V1', 'V2', 'V3', 'V4', 'V5', 'V6', 'V7', 'V8', 'V9', 'V10',\n",
            "       'V11', 'V12', 'V13', 'V14', 'V15', 'V16', 'V17', 'V18', 'V19', 'V20',\n",
            "       'V21', 'V22', 'V23', 'V24', 'V25', 'V26', 'V27', 'V28', 'Amount',\n",
            "       'Class'],\n",
            "      dtype='object')\n"
          ]
        }
      ],
      "source": [
        "# Print column names to check available columns\n",
        "print(\"Column names in the dataset:\", df.columns)"
      ]
    },
    {
      "cell_type": "code",
      "execution_count": 14,
      "metadata": {
        "id": "zfCyUWP8teC8"
      },
      "outputs": [],
      "source": [
        "# Define features and target\n",
        "X = df.drop(columns=['Class'])\n",
        "y = df['Class']\n",
        "\n"
      ]
    },
    {
      "cell_type": "code",
      "execution_count": 15,
      "metadata": {
        "id": "afYaBlmVvEAM"
      },
      "outputs": [],
      "source": [
        "# Standardize the features\n",
        "scaler = StandardScaler()\n",
        "X_scaled = scaler.fit_transform(X)"
      ]
    },
    {
      "cell_type": "code",
      "execution_count": 18,
      "metadata": {
        "id": "lhSL8TFBwjCK"
      },
      "outputs": [],
      "source": [
        "from sklearn.model_selection import train_test_split\n",
        "# Split the data into training and test sets\n",
        "X_train, X_test, y_train, y_test = train_test_split(X, y, test_size=0.2, random_state=42)"
      ]
    },
    {
      "cell_type": "code",
      "execution_count": 20,
      "metadata": {
        "colab": {
          "base_uri": "https://localhost:8080/"
        },
        "id": "JfkB-OA_E75M",
        "outputId": "1085e8e4-e661-47d1-dcf6-32e48b60d4d9"
      },
      "outputs": [
        {
          "output_type": "stream",
          "name": "stdout",
          "text": [
            "Collecting lazypredict\n",
            "  Downloading lazypredict-0.2.12-py2.py3-none-any.whl (12 kB)\n",
            "Requirement already satisfied: click in /usr/local/lib/python3.10/dist-packages (from lazypredict) (8.1.7)\n",
            "Requirement already satisfied: scikit-learn in /usr/local/lib/python3.10/dist-packages (from lazypredict) (1.2.2)\n",
            "Requirement already satisfied: pandas in /usr/local/lib/python3.10/dist-packages (from lazypredict) (2.0.3)\n",
            "Requirement already satisfied: tqdm in /usr/local/lib/python3.10/dist-packages (from lazypredict) (4.66.4)\n",
            "Requirement already satisfied: joblib in /usr/local/lib/python3.10/dist-packages (from lazypredict) (1.4.2)\n",
            "Requirement already satisfied: lightgbm in /usr/local/lib/python3.10/dist-packages (from lazypredict) (4.1.0)\n",
            "Requirement already satisfied: xgboost in /usr/local/lib/python3.10/dist-packages (from lazypredict) (2.0.3)\n",
            "Requirement already satisfied: numpy in /usr/local/lib/python3.10/dist-packages (from lightgbm->lazypredict) (1.25.2)\n",
            "Requirement already satisfied: scipy in /usr/local/lib/python3.10/dist-packages (from lightgbm->lazypredict) (1.11.4)\n",
            "Requirement already satisfied: python-dateutil>=2.8.2 in /usr/local/lib/python3.10/dist-packages (from pandas->lazypredict) (2.8.2)\n",
            "Requirement already satisfied: pytz>=2020.1 in /usr/local/lib/python3.10/dist-packages (from pandas->lazypredict) (2023.4)\n",
            "Requirement already satisfied: tzdata>=2022.1 in /usr/local/lib/python3.10/dist-packages (from pandas->lazypredict) (2024.1)\n",
            "Requirement already satisfied: threadpoolctl>=2.0.0 in /usr/local/lib/python3.10/dist-packages (from scikit-learn->lazypredict) (3.5.0)\n",
            "Requirement already satisfied: six>=1.5 in /usr/local/lib/python3.10/dist-packages (from python-dateutil>=2.8.2->pandas->lazypredict) (1.16.0)\n",
            "Installing collected packages: lazypredict\n",
            "Successfully installed lazypredict-0.2.12\n"
          ]
        }
      ],
      "source": [
        "pip install lazypredict\n"
      ]
    },
    {
      "cell_type": "markdown",
      "metadata": {
        "id": "hRZK25NzEEEW"
      },
      "source": []
    },
    {
      "cell_type": "code",
      "execution_count": 21,
      "metadata": {
        "colab": {
          "base_uri": "https://localhost:8080/"
        },
        "id": "YQaPHcROD31Y",
        "outputId": "3f5faf0c-3c69-4d2d-9600-41f4fbccd578"
      },
      "outputs": [
        {
          "output_type": "stream",
          "name": "stderr",
          "text": [
            "100%|██████████| 29/29 [00:00<00:00, 29.74it/s]\n"
          ]
        }
      ],
      "source": [
        "from lazypredict.Supervised import LazyClassifier\n",
        "\n",
        "# Use LazyPredict to evaluate multiple models\n",
        "clf = LazyClassifier(verbose=0, ignore_warnings=True, custom_metric=None)\n",
        "models, predictions = clf.fit(X_train, X_test, y_train, y_test)\n"
      ]
    },
    {
      "cell_type": "code",
      "execution_count": 22,
      "metadata": {
        "id": "_VZ19rk-wv8g"
      },
      "outputs": [],
      "source": [
        "import tensorflow as tf\n",
        "from tensorflow.keras.models import Sequential\n",
        "from tensorflow.keras.layers import Dense, Dropout\n",
        "\n",
        "# Build the model\n",
        "model = Sequential([\n",
        "    Dense(32, activation='relu', input_shape=(X_train.shape[1],)),\n",
        "    Dropout(0.5),\n",
        "    Dense(16, activation='relu'),\n",
        "    Dropout(0.5),\n",
        "    Dense(1, activation='sigmoid')\n",
        "])\n",
        "\n",
        "# Compile the model\n",
        "model.compile(optimizer='adam',\n",
        "              loss='binary_crossentropy',\n",
        "              metrics=['accuracy'])\n"
      ]
    },
    {
      "cell_type": "code",
      "execution_count": 23,
      "metadata": {
        "id": "jC4dt_mqxJPS",
        "colab": {
          "base_uri": "https://localhost:8080/"
        },
        "outputId": "c11dbeb4-11d8-4566-d116-bcc845d19036"
      },
      "outputs": [
        {
          "output_type": "stream",
          "name": "stdout",
          "text": [
            "Epoch 1/20\n",
            "119/119 [==============================] - 2s 4ms/step - loss: 95.4063 - accuracy: 0.7371 - val_loss: 0.1711 - val_accuracy: 0.9989\n",
            "Epoch 2/20\n",
            "119/119 [==============================] - 0s 3ms/step - loss: 10.9894 - accuracy: 0.9342 - val_loss: 0.2196 - val_accuracy: 0.9989\n",
            "Epoch 3/20\n",
            "119/119 [==============================] - 0s 3ms/step - loss: 4.0633 - accuracy: 0.9658 - val_loss: 0.2356 - val_accuracy: 0.9989\n",
            "Epoch 4/20\n",
            "119/119 [==============================] - 0s 3ms/step - loss: 3.7537 - accuracy: 0.9724 - val_loss: 0.2507 - val_accuracy: 0.9989\n",
            "Epoch 5/20\n",
            "119/119 [==============================] - 0s 3ms/step - loss: 2.4768 - accuracy: 0.9774 - val_loss: 0.2581 - val_accuracy: 0.9989\n",
            "Epoch 6/20\n",
            "119/119 [==============================] - 0s 4ms/step - loss: 1.8297 - accuracy: 0.9805 - val_loss: 0.2636 - val_accuracy: 0.9989\n",
            "Epoch 7/20\n",
            "119/119 [==============================] - 0s 4ms/step - loss: 1.7627 - accuracy: 0.9832 - val_loss: 0.2593 - val_accuracy: 0.9989\n",
            "Epoch 8/20\n",
            "119/119 [==============================] - 0s 4ms/step - loss: 1.1367 - accuracy: 0.9821 - val_loss: 0.2659 - val_accuracy: 0.9989\n",
            "Epoch 9/20\n",
            "119/119 [==============================] - 0s 4ms/step - loss: 1.3629 - accuracy: 0.9866 - val_loss: 0.2629 - val_accuracy: 0.9989\n",
            "Epoch 10/20\n",
            "119/119 [==============================] - 1s 4ms/step - loss: 1.4021 - accuracy: 0.9874 - val_loss: 0.2603 - val_accuracy: 0.9989\n",
            "Epoch 11/20\n",
            "119/119 [==============================] - 1s 4ms/step - loss: 0.9776 - accuracy: 0.9924 - val_loss: 0.2599 - val_accuracy: 0.9989\n",
            "Epoch 12/20\n",
            "119/119 [==============================] - 1s 4ms/step - loss: 0.7923 - accuracy: 0.9905 - val_loss: 0.2588 - val_accuracy: 0.9989\n",
            "Epoch 13/20\n",
            "119/119 [==============================] - 0s 4ms/step - loss: 0.4149 - accuracy: 0.9926 - val_loss: 0.2639 - val_accuracy: 0.9989\n",
            "Epoch 14/20\n",
            "119/119 [==============================] - 1s 4ms/step - loss: 0.6667 - accuracy: 0.9953 - val_loss: 0.2646 - val_accuracy: 0.9989\n",
            "Epoch 15/20\n",
            "119/119 [==============================] - 0s 3ms/step - loss: 1.7034 - accuracy: 0.9932 - val_loss: 0.2464 - val_accuracy: 0.9989\n",
            "Epoch 16/20\n",
            "119/119 [==============================] - 0s 3ms/step - loss: 0.7150 - accuracy: 0.9921 - val_loss: 0.2414 - val_accuracy: 0.9989\n",
            "Epoch 17/20\n",
            "119/119 [==============================] - 0s 3ms/step - loss: 0.2281 - accuracy: 0.9929 - val_loss: 0.2395 - val_accuracy: 0.9989\n",
            "Epoch 18/20\n",
            "119/119 [==============================] - 0s 3ms/step - loss: 0.4399 - accuracy: 0.9942 - val_loss: 0.2369 - val_accuracy: 0.9989\n",
            "Epoch 19/20\n",
            "119/119 [==============================] - 0s 3ms/step - loss: 0.7907 - accuracy: 0.9939 - val_loss: 0.2282 - val_accuracy: 0.9989\n",
            "Epoch 20/20\n",
            "119/119 [==============================] - 0s 3ms/step - loss: 1.0189 - accuracy: 0.9939 - val_loss: 0.2108 - val_accuracy: 0.9989\n"
          ]
        }
      ],
      "source": [
        "# Train the model\n",
        "history = model.fit(X_train, y_train, epochs=20, batch_size=32, validation_split=0.2)\n"
      ]
    },
    {
      "cell_type": "code",
      "execution_count": 24,
      "metadata": {
        "colab": {
          "base_uri": "https://localhost:8080/"
        },
        "id": "uWMAaK2-xQUi",
        "outputId": "db6a5843-28da-43a0-d872-3e66e7ea31dd"
      },
      "outputs": [
        {
          "output_type": "stream",
          "name": "stdout",
          "text": [
            "38/38 [==============================] - 0s 3ms/step - loss: 0.1079 - accuracy: 0.9992\n",
            "Test Loss: 0.10790561139583588\n",
            "Test Accuracy: 0.9991582632064819\n"
          ]
        }
      ],
      "source": [
        "# Evaluate the model\n",
        "test_loss, test_accuracy = model.evaluate(X_test, y_test)\n",
        "print(f'Test Loss: {test_loss}')\n",
        "print(f'Test Accuracy: {test_accuracy}')\n"
      ]
    }
  ],
  "metadata": {
    "colab": {
      "provenance": []
    },
    "kernelspec": {
      "display_name": "Python 3",
      "name": "python3"
    },
    "language_info": {
      "name": "python"
    }
  },
  "nbformat": 4,
  "nbformat_minor": 0
}