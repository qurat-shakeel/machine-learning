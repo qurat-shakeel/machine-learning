{
  "nbformat": 4,
  "nbformat_minor": 0,
  "metadata": {
    "colab": {
      "provenance": []
    },
    "kernelspec": {
      "name": "python3",
      "display_name": "Python 3"
    },
    "language_info": {
      "name": "python"
    }
  },
  "cells": [
    {
      "cell_type": "code",
      "execution_count": null,
      "metadata": {
        "id": "ysMMVJtCb74W"
      },
      "outputs": [],
      "source": [
        "import pandas as pd\n",
        "import numpy as np\n",
        "from sklearn.model_selection import train_test_split\n",
        "from sklearn.preprocessing import StandardScaler, OneHotEncoder\n",
        "from sklearn.compose import ColumnTransformer\n",
        "from sklearn.impute import SimpleImputer\n",
        "from sklearn.pipeline import Pipeline\n",
        "import tensorflow as tf\n",
        "from tensorflow.keras.models import Sequential\n",
        "from tensorflow.keras.layers import Dense, Dropout\n",
        "from tensorflow.keras.callbacks import EarlyStopping\n",
        "from tensorflow.keras.optimizers import Adam\n",
        "import random"
      ]
    },
    {
      "cell_type": "code",
      "source": [
        "# Set random seeds for reproducibility\n",
        "seed = 42\n",
        "np.random.seed(seed)\n",
        "tf.random.set_seed(seed)\n",
        "random.seed(seed)\n"
      ],
      "metadata": {
        "id": "el0l1dU1c8UT"
      },
      "execution_count": null,
      "outputs": []
    },
    {
      "cell_type": "code",
      "source": [
        "df = pd.read_csv(\"titanicc.csv\")"
      ],
      "metadata": {
        "id": "l4Wjfgtsc8qw"
      },
      "execution_count": null,
      "outputs": []
    },
    {
      "cell_type": "code",
      "source": [
        "# Feature engineering\n",
        "df['FamilySize'] = df['SibSp'] + df['Parch'] + 1\n",
        "df['IsAlone'] = (df['FamilySize'] == 1).astype(int)\n",
        "df['Title'] = df['Name'].str.extract(' ([A-Za-z]+)\\.', expand=False)\n",
        "df['Title'] = df['Title'].replace(['Lady', 'Countess', 'Capt', 'Col',\n",
        "                                    'Don', 'Dr', 'Major', 'Rev', 'Sir',\n",
        "                                    'Jonkheer', 'Dona'], 'Rare')\n",
        "df['Title'] = df['Title'].replace('Mlle', 'Miss')\n",
        "df['Title'] = df['Title'].replace('Ms', 'Miss')\n",
        "df['Title'] = df['Title'].replace('Mme', 'Mrs')"
      ],
      "metadata": {
        "id": "NIIxaiD5c82m"
      },
      "execution_count": null,
      "outputs": []
    },
    {
      "cell_type": "code",
      "source": [
        "columns_to_drop = ['PassengerId', 'Ticket', 'Fare', 'Name', 'Cabin']\n",
        "X = df.drop(columns=columns_to_drop)\n",
        "y = df['Survived']"
      ],
      "metadata": {
        "id": "VuLLHGhrc85b"
      },
      "execution_count": null,
      "outputs": []
    },
    {
      "cell_type": "code",
      "source": [
        "# Handle missing values\n",
        "numerical_features = ['Age', 'SibSp', 'Parch', 'FamilySize']\n",
        "categorical_features = ['Pclass', 'Sex', 'Embarked', 'Title']\n"
      ],
      "metadata": {
        "id": "yVHwv-KRc88Y"
      },
      "execution_count": null,
      "outputs": []
    },
    {
      "cell_type": "code",
      "source": [
        "numerical_transformer = Pipeline(steps=[\n",
        "    ('imputer', SimpleImputer(strategy='median')),\n",
        "    ('scaler', StandardScaler())\n",
        "])\n",
        "\n",
        "categorical_transformer = Pipeline(steps=[\n",
        "    ('imputer', SimpleImputer(strategy='most_frequent')),\n",
        "    ('onehot', OneHotEncoder(handle_unknown='ignore'))\n",
        "])\n"
      ],
      "metadata": {
        "id": "Hws4C2Pjc8_V"
      },
      "execution_count": null,
      "outputs": []
    },
    {
      "cell_type": "code",
      "source": [
        "preprocessor = ColumnTransformer(\n",
        "    transformers=[\n",
        "        ('num', numerical_transformer, numerical_features),\n",
        "        ('cat', categorical_transformer, categorical_features)\n",
        "    ])\n"
      ],
      "metadata": {
        "id": "z4W-gPbSc9CJ"
      },
      "execution_count": null,
      "outputs": []
    },
    {
      "cell_type": "code",
      "source": [
        "X_train, X_test, y_train, y_test = train_test_split(X, y, test_size=0.2, random_state=seed)"
      ],
      "metadata": {
        "id": "HXax-hpWc9FR"
      },
      "execution_count": null,
      "outputs": []
    },
    {
      "cell_type": "code",
      "source": [
        "X_train = preprocessor.fit_transform(X_train)\n",
        "X_test = preprocessor.transform(X_test)\n",
        "\n",
        "X_train = np.array(X_train)\n",
        "X_test = np.array(X_test)\n",
        "y_train = np.array(y_train)\n",
        "y_test = np.array(y_test)\n"
      ],
      "metadata": {
        "id": "9orgAWV3c9IJ"
      },
      "execution_count": null,
      "outputs": []
    },
    {
      "cell_type": "code",
      "source": [],
      "metadata": {
        "id": "HI76-xWFmAKP"
      },
      "execution_count": null,
      "outputs": []
    },
    {
      "cell_type": "code",
      "source": [
        "model = Sequential([\n",
        "    Dense(128, input_dim=X_train.shape[1], activation='relu', kernel_regularizer=tf.keras.regularizers.l2(0.001), name='l1'),\n",
        "    Dropout(0.3, name='dropout1'),\n",
        "    Dense(64, activation='relu', kernel_regularizer=tf.keras.regularizers.l2(0.001), name='l2'),\n",
        "    Dropout(0.3, name='dropout2'),\n",
        "    Dense(32, activation='relu', kernel_regularizer=tf.keras.regularizers.l2(0.001), name='l3'),\n",
        "    Dropout(0.3, name='dropout3'),\n",
        "    Dense(2, activation='softmax', name='output')\n",
        "])"
      ],
      "metadata": {
        "id": "wdDC_YdRc9Kt"
      },
      "execution_count": null,
      "outputs": []
    },
    {
      "cell_type": "code",
      "source": [
        "learning_rate = 0.001\n",
        "optimizer = Adam(learning_rate=learning_rate)\n"
      ],
      "metadata": {
        "id": "sWTrrVa3c9Np"
      },
      "execution_count": null,
      "outputs": []
    },
    {
      "cell_type": "code",
      "source": [
        "model.compile(optimizer=optimizer, loss='sparse_categorical_crossentropy', metrics=['accuracy'])\n"
      ],
      "metadata": {
        "id": "csO7sOo_c9Qc"
      },
      "execution_count": null,
      "outputs": []
    },
    {
      "cell_type": "code",
      "source": [
        "early_stopping = EarlyStopping(monitor='val_loss', patience=10, restore_best_weights=True)"
      ],
      "metadata": {
        "id": "x5urvGF7c9Tu"
      },
      "execution_count": null,
      "outputs": []
    },
    {
      "cell_type": "code",
      "source": [
        "history = model.fit(X_train, y_train, epochs=100, validation_data=(X_test, y_test), callbacks=[early_stopping])\n"
      ],
      "metadata": {
        "colab": {
          "base_uri": "https://localhost:8080/"
        },
        "id": "JxRma6iUdzEo",
        "outputId": "e6239857-4266-4aac-ab62-baab2b297a47"
      },
      "execution_count": null,
      "outputs": [
        {
          "output_type": "stream",
          "name": "stdout",
          "text": [
            "Epoch 1/100\n",
            "23/23 [==============================] - 1s 14ms/step - loss: 0.7958 - accuracy: 0.6067 - val_loss: 0.7080 - val_accuracy: 0.7430\n",
            "Epoch 2/100\n",
            "23/23 [==============================] - 0s 5ms/step - loss: 0.6815 - accuracy: 0.7360 - val_loss: 0.6185 - val_accuracy: 0.8101\n",
            "Epoch 3/100\n",
            "23/23 [==============================] - 0s 5ms/step - loss: 0.6164 - accuracy: 0.8146 - val_loss: 0.5802 - val_accuracy: 0.8212\n",
            "Epoch 4/100\n",
            "23/23 [==============================] - 0s 5ms/step - loss: 0.6029 - accuracy: 0.8090 - val_loss: 0.5704 - val_accuracy: 0.8156\n",
            "Epoch 5/100\n",
            "23/23 [==============================] - 0s 5ms/step - loss: 0.5854 - accuracy: 0.8258 - val_loss: 0.5608 - val_accuracy: 0.8212\n",
            "Epoch 6/100\n",
            "23/23 [==============================] - 0s 6ms/step - loss: 0.5888 - accuracy: 0.8062 - val_loss: 0.5479 - val_accuracy: 0.8268\n",
            "Epoch 7/100\n",
            "23/23 [==============================] - 0s 5ms/step - loss: 0.5594 - accuracy: 0.8188 - val_loss: 0.5451 - val_accuracy: 0.8212\n",
            "Epoch 8/100\n",
            "23/23 [==============================] - 0s 7ms/step - loss: 0.5447 - accuracy: 0.8230 - val_loss: 0.5426 - val_accuracy: 0.8212\n",
            "Epoch 9/100\n",
            "23/23 [==============================] - 0s 7ms/step - loss: 0.5423 - accuracy: 0.8301 - val_loss: 0.5429 - val_accuracy: 0.8268\n",
            "Epoch 10/100\n",
            "23/23 [==============================] - 0s 8ms/step - loss: 0.5363 - accuracy: 0.8343 - val_loss: 0.5471 - val_accuracy: 0.8156\n",
            "Epoch 11/100\n",
            "23/23 [==============================] - 0s 6ms/step - loss: 0.5239 - accuracy: 0.8301 - val_loss: 0.5481 - val_accuracy: 0.8156\n",
            "Epoch 12/100\n",
            "23/23 [==============================] - 0s 8ms/step - loss: 0.5303 - accuracy: 0.8301 - val_loss: 0.5432 - val_accuracy: 0.8212\n",
            "Epoch 13/100\n",
            "23/23 [==============================] - 0s 7ms/step - loss: 0.5276 - accuracy: 0.8287 - val_loss: 0.5345 - val_accuracy: 0.8268\n",
            "Epoch 14/100\n",
            "23/23 [==============================] - 0s 6ms/step - loss: 0.5173 - accuracy: 0.8315 - val_loss: 0.5268 - val_accuracy: 0.8212\n",
            "Epoch 15/100\n",
            "23/23 [==============================] - 0s 7ms/step - loss: 0.5119 - accuracy: 0.8371 - val_loss: 0.5334 - val_accuracy: 0.8212\n",
            "Epoch 16/100\n",
            "23/23 [==============================] - 0s 7ms/step - loss: 0.5028 - accuracy: 0.8427 - val_loss: 0.5262 - val_accuracy: 0.8324\n",
            "Epoch 17/100\n",
            "23/23 [==============================] - 0s 7ms/step - loss: 0.5071 - accuracy: 0.8371 - val_loss: 0.5161 - val_accuracy: 0.8324\n",
            "Epoch 18/100\n",
            "23/23 [==============================] - 0s 9ms/step - loss: 0.5009 - accuracy: 0.8287 - val_loss: 0.5087 - val_accuracy: 0.8324\n",
            "Epoch 19/100\n",
            "23/23 [==============================] - 0s 7ms/step - loss: 0.4883 - accuracy: 0.8287 - val_loss: 0.5105 - val_accuracy: 0.8268\n",
            "Epoch 20/100\n",
            "23/23 [==============================] - 0s 7ms/step - loss: 0.4986 - accuracy: 0.8357 - val_loss: 0.5126 - val_accuracy: 0.8324\n",
            "Epoch 21/100\n",
            "23/23 [==============================] - 0s 6ms/step - loss: 0.4808 - accuracy: 0.8497 - val_loss: 0.5055 - val_accuracy: 0.8268\n",
            "Epoch 22/100\n",
            "23/23 [==============================] - 0s 7ms/step - loss: 0.4702 - accuracy: 0.8427 - val_loss: 0.5074 - val_accuracy: 0.8324\n",
            "Epoch 23/100\n",
            "23/23 [==============================] - 0s 8ms/step - loss: 0.4920 - accuracy: 0.8427 - val_loss: 0.5054 - val_accuracy: 0.8324\n",
            "Epoch 24/100\n",
            "23/23 [==============================] - 0s 9ms/step - loss: 0.4646 - accuracy: 0.8539 - val_loss: 0.4959 - val_accuracy: 0.8324\n",
            "Epoch 25/100\n",
            "23/23 [==============================] - 0s 7ms/step - loss: 0.4699 - accuracy: 0.8413 - val_loss: 0.5027 - val_accuracy: 0.8268\n",
            "Epoch 26/100\n",
            "23/23 [==============================] - 0s 6ms/step - loss: 0.4651 - accuracy: 0.8441 - val_loss: 0.5063 - val_accuracy: 0.8212\n",
            "Epoch 27/100\n",
            "23/23 [==============================] - 0s 4ms/step - loss: 0.4811 - accuracy: 0.8357 - val_loss: 0.5029 - val_accuracy: 0.8268\n",
            "Epoch 28/100\n",
            "23/23 [==============================] - 0s 5ms/step - loss: 0.4724 - accuracy: 0.8455 - val_loss: 0.4994 - val_accuracy: 0.8268\n",
            "Epoch 29/100\n",
            "23/23 [==============================] - 0s 4ms/step - loss: 0.4802 - accuracy: 0.8413 - val_loss: 0.5004 - val_accuracy: 0.8380\n",
            "Epoch 30/100\n",
            "23/23 [==============================] - 0s 6ms/step - loss: 0.4616 - accuracy: 0.8413 - val_loss: 0.5035 - val_accuracy: 0.8268\n",
            "Epoch 31/100\n",
            "23/23 [==============================] - 0s 5ms/step - loss: 0.4536 - accuracy: 0.8469 - val_loss: 0.5057 - val_accuracy: 0.8268\n",
            "Epoch 32/100\n",
            "23/23 [==============================] - 0s 4ms/step - loss: 0.4713 - accuracy: 0.8497 - val_loss: 0.5032 - val_accuracy: 0.8324\n",
            "Epoch 33/100\n",
            "23/23 [==============================] - 0s 5ms/step - loss: 0.4798 - accuracy: 0.8399 - val_loss: 0.5076 - val_accuracy: 0.8268\n",
            "Epoch 34/100\n",
            "23/23 [==============================] - 0s 4ms/step - loss: 0.4494 - accuracy: 0.8511 - val_loss: 0.5045 - val_accuracy: 0.8324\n"
          ]
        }
      ]
    },
    {
      "cell_type": "code",
      "source": [
        "loss, accuracy = model.evaluate(X_test, y_test)\n",
        "print(f'Test Accuracy: {accuracy * 100:.2f}%')"
      ],
      "metadata": {
        "colab": {
          "base_uri": "https://localhost:8080/"
        },
        "id": "aDpo8dwmdzz0",
        "outputId": "4c1c460a-bf73-46ca-dbca-6e6f8cad77cc"
      },
      "execution_count": null,
      "outputs": [
        {
          "output_type": "stream",
          "name": "stdout",
          "text": [
            "6/6 [==============================] - 0s 3ms/step - loss: 0.4959 - accuracy: 0.8324\n",
            "Test Accuracy: 83.24%\n"
          ]
        }
      ]
    }
  ]
}